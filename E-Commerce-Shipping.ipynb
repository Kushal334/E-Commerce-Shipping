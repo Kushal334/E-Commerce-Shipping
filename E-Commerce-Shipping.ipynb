{
 "cells": [
  {
   "cell_type": "markdown",
   "id": "41934b0b",
   "metadata": {},
   "source": [
    "## Problem Statement\n",
    "\n",
    "An international E-commerce Company wants to discover key insights from their customer database, and depending upon various parameters, wants to predict whether their future order will reach on time or not."
   ]
  },
  {
   "cell_type": "code",
   "execution_count": 1,
   "id": "5d606fe9",
   "metadata": {},
   "outputs": [],
   "source": [
    "# Important Libraries\n",
    "import numpy as np\n",
    "import pandas as pd\n",
    "import matplotlib.pyplot as plt\n",
    "%matplotlib inline\n",
    "import seaborn as sns\n",
    "\n",
    "# Preprocessing modules\n",
    "from sklearn.model_selection import train_test_split, RandomizedSearchCV, cross_val_score\n",
    "from sklearn.preprocessing import OneHotEncoder\n",
    "\n",
    "# Model\n",
    "from sklearn.ensemble import RandomForestClassifier\n",
    "# Metrics\n",
    "from sklearn.metrics import plot_confusion_matrix, classification_report, plot_roc_curve\n",
    "\n",
    "# Saving the model\n",
    "import pickle"
   ]
  },
  {
   "cell_type": "code",
   "execution_count": 2,
   "id": "25c84f9c",
   "metadata": {},
   "outputs": [
    {
     "data": {
      "text/html": [
       "<div>\n",
       "<style scoped>\n",
       "    .dataframe tbody tr th:only-of-type {\n",
       "        vertical-align: middle;\n",
       "    }\n",
       "\n",
       "    .dataframe tbody tr th {\n",
       "        vertical-align: top;\n",
       "    }\n",
       "\n",
       "    .dataframe thead th {\n",
       "        text-align: right;\n",
       "    }\n",
       "</style>\n",
       "<table border=\"1\" class=\"dataframe\">\n",
       "  <thead>\n",
       "    <tr style=\"text-align: right;\">\n",
       "      <th></th>\n",
       "      <th>ID</th>\n",
       "      <th>Warehouse_block</th>\n",
       "      <th>Mode_of_Shipment</th>\n",
       "      <th>Customer_care_calls</th>\n",
       "      <th>Customer_rating</th>\n",
       "      <th>Cost_of_the_Product</th>\n",
       "      <th>Prior_purchases</th>\n",
       "      <th>Product_importance</th>\n",
       "      <th>Gender</th>\n",
       "      <th>Discount_offered</th>\n",
       "      <th>Weight_in_gms</th>\n",
       "      <th>Reached.on.Time_Y.N</th>\n",
       "    </tr>\n",
       "  </thead>\n",
       "  <tbody>\n",
       "    <tr>\n",
       "      <th>0</th>\n",
       "      <td>1</td>\n",
       "      <td>D</td>\n",
       "      <td>Flight</td>\n",
       "      <td>4</td>\n",
       "      <td>2</td>\n",
       "      <td>177</td>\n",
       "      <td>3</td>\n",
       "      <td>low</td>\n",
       "      <td>F</td>\n",
       "      <td>44</td>\n",
       "      <td>1233</td>\n",
       "      <td>1</td>\n",
       "    </tr>\n",
       "    <tr>\n",
       "      <th>1</th>\n",
       "      <td>2</td>\n",
       "      <td>F</td>\n",
       "      <td>Flight</td>\n",
       "      <td>4</td>\n",
       "      <td>5</td>\n",
       "      <td>216</td>\n",
       "      <td>2</td>\n",
       "      <td>low</td>\n",
       "      <td>M</td>\n",
       "      <td>59</td>\n",
       "      <td>3088</td>\n",
       "      <td>1</td>\n",
       "    </tr>\n",
       "    <tr>\n",
       "      <th>2</th>\n",
       "      <td>3</td>\n",
       "      <td>A</td>\n",
       "      <td>Flight</td>\n",
       "      <td>2</td>\n",
       "      <td>2</td>\n",
       "      <td>183</td>\n",
       "      <td>4</td>\n",
       "      <td>low</td>\n",
       "      <td>M</td>\n",
       "      <td>48</td>\n",
       "      <td>3374</td>\n",
       "      <td>1</td>\n",
       "    </tr>\n",
       "    <tr>\n",
       "      <th>3</th>\n",
       "      <td>4</td>\n",
       "      <td>B</td>\n",
       "      <td>Flight</td>\n",
       "      <td>3</td>\n",
       "      <td>3</td>\n",
       "      <td>176</td>\n",
       "      <td>4</td>\n",
       "      <td>medium</td>\n",
       "      <td>M</td>\n",
       "      <td>10</td>\n",
       "      <td>1177</td>\n",
       "      <td>1</td>\n",
       "    </tr>\n",
       "    <tr>\n",
       "      <th>4</th>\n",
       "      <td>5</td>\n",
       "      <td>C</td>\n",
       "      <td>Flight</td>\n",
       "      <td>2</td>\n",
       "      <td>2</td>\n",
       "      <td>184</td>\n",
       "      <td>3</td>\n",
       "      <td>medium</td>\n",
       "      <td>F</td>\n",
       "      <td>46</td>\n",
       "      <td>2484</td>\n",
       "      <td>1</td>\n",
       "    </tr>\n",
       "  </tbody>\n",
       "</table>\n",
       "</div>"
      ],
      "text/plain": [
       "   ID Warehouse_block Mode_of_Shipment  Customer_care_calls  Customer_rating  \\\n",
       "0   1               D           Flight                    4                2   \n",
       "1   2               F           Flight                    4                5   \n",
       "2   3               A           Flight                    2                2   \n",
       "3   4               B           Flight                    3                3   \n",
       "4   5               C           Flight                    2                2   \n",
       "\n",
       "   Cost_of_the_Product  Prior_purchases Product_importance Gender  \\\n",
       "0                  177                3                low      F   \n",
       "1                  216                2                low      M   \n",
       "2                  183                4                low      M   \n",
       "3                  176                4             medium      M   \n",
       "4                  184                3             medium      F   \n",
       "\n",
       "   Discount_offered  Weight_in_gms  Reached.on.Time_Y.N  \n",
       "0                44           1233                    1  \n",
       "1                59           3088                    1  \n",
       "2                48           3374                    1  \n",
       "3                10           1177                    1  \n",
       "4                46           2484                    1  "
      ]
     },
     "execution_count": 2,
     "metadata": {},
     "output_type": "execute_result"
    }
   ],
   "source": [
    "data = pd.read_csv('shipping_data.csv')\n",
    "data.head()"
   ]
  },
  {
   "cell_type": "code",
   "execution_count": 3,
   "id": "57eec8a7",
   "metadata": {},
   "outputs": [
    {
     "data": {
      "text/plain": [
       "(10999, 12)"
      ]
     },
     "execution_count": 3,
     "metadata": {},
     "output_type": "execute_result"
    }
   ],
   "source": [
    "df = data.copy()\n",
    "df.shape"
   ]
  },
  {
   "cell_type": "code",
   "execution_count": 4,
   "id": "661ec6ba",
   "metadata": {},
   "outputs": [
    {
     "name": "stdout",
     "output_type": "stream",
     "text": [
      "<class 'pandas.core.frame.DataFrame'>\n",
      "RangeIndex: 10999 entries, 0 to 10998\n",
      "Data columns (total 12 columns):\n",
      " #   Column               Non-Null Count  Dtype \n",
      "---  ------               --------------  ----- \n",
      " 0   ID                   10999 non-null  int64 \n",
      " 1   Warehouse_block      10999 non-null  object\n",
      " 2   Mode_of_Shipment     10999 non-null  object\n",
      " 3   Customer_care_calls  10999 non-null  int64 \n",
      " 4   Customer_rating      10999 non-null  int64 \n",
      " 5   Cost_of_the_Product  10999 non-null  int64 \n",
      " 6   Prior_purchases      10999 non-null  int64 \n",
      " 7   Product_importance   10999 non-null  object\n",
      " 8   Gender               10999 non-null  object\n",
      " 9   Discount_offered     10999 non-null  int64 \n",
      " 10  Weight_in_gms        10999 non-null  int64 \n",
      " 11  Reached.on.Time_Y.N  10999 non-null  int64 \n",
      "dtypes: int64(8), object(4)\n",
      "memory usage: 1.0+ MB\n"
     ]
    }
   ],
   "source": [
    "df.info()"
   ]
  },
  {
   "cell_type": "code",
   "execution_count": 5,
   "id": "36b31837",
   "metadata": {},
   "outputs": [
    {
     "data": {
      "text/plain": [
       "ID                     0\n",
       "Warehouse_block        0\n",
       "Mode_of_Shipment       0\n",
       "Customer_care_calls    0\n",
       "Customer_rating        0\n",
       "Cost_of_the_Product    0\n",
       "Prior_purchases        0\n",
       "Product_importance     0\n",
       "Gender                 0\n",
       "Discount_offered       0\n",
       "Weight_in_gms          0\n",
       "Reached.on.Time_Y.N    0\n",
       "dtype: int64"
      ]
     },
     "execution_count": 5,
     "metadata": {},
     "output_type": "execute_result"
    }
   ],
   "source": [
    "# Checking for presence of null values specifically in O/P as well as in the I/P features\n",
    "df.isnull().sum()"
   ]
  },
  {
   "cell_type": "markdown",
   "id": "ffcd0ae4",
   "metadata": {},
   "source": [
    "### No Null values present in the dataset"
   ]
  },
  {
   "cell_type": "code",
   "execution_count": 6,
   "id": "f5aa2b1d",
   "metadata": {},
   "outputs": [
    {
     "data": {
      "text/plain": [
       "1    6563\n",
       "0    4436\n",
       "Name: Reached.on.Time_Y.N, dtype: int64"
      ]
     },
     "execution_count": 6,
     "metadata": {},
     "output_type": "execute_result"
    }
   ],
   "source": [
    "# The output values are well distributed (balanced)\n",
    "df['Reached.on.Time_Y.N'].value_counts()"
   ]
  },
  {
   "cell_type": "markdown",
   "id": "46ce6a91",
   "metadata": {},
   "source": [
    "### Mapping the values in the Warehouse_block feature for convenience"
   ]
  },
  {
   "cell_type": "code",
   "execution_count": 7,
   "id": "1be62965",
   "metadata": {},
   "outputs": [
    {
     "data": {
      "text/plain": [
       "array(['D', 'F', 'A', 'B', 'C'], dtype=object)"
      ]
     },
     "execution_count": 7,
     "metadata": {},
     "output_type": "execute_result"
    }
   ],
   "source": [
    "# Changing the 'F' values into 'E'\n",
    "df['Warehouse_block'].unique()"
   ]
  },
  {
   "cell_type": "code",
   "execution_count": 8,
   "id": "b65338be",
   "metadata": {},
   "outputs": [],
   "source": [
    "whb_map = {\n",
    "    'A':'A',\n",
    "    'B':'B',\n",
    "    'C':'C',\n",
    "    'D':'D',\n",
    "    'F':'E',\n",
    "}"
   ]
  },
  {
   "cell_type": "code",
   "execution_count": 9,
   "id": "9e4d7810",
   "metadata": {},
   "outputs": [],
   "source": [
    "df['Warehouse_block'] = df['Warehouse_block'].map(whb_map)"
   ]
  },
  {
   "cell_type": "code",
   "execution_count": 10,
   "id": "a9be4937",
   "metadata": {},
   "outputs": [
    {
     "data": {
      "text/html": [
       "<div>\n",
       "<style scoped>\n",
       "    .dataframe tbody tr th:only-of-type {\n",
       "        vertical-align: middle;\n",
       "    }\n",
       "\n",
       "    .dataframe tbody tr th {\n",
       "        vertical-align: top;\n",
       "    }\n",
       "\n",
       "    .dataframe thead th {\n",
       "        text-align: right;\n",
       "    }\n",
       "</style>\n",
       "<table border=\"1\" class=\"dataframe\">\n",
       "  <thead>\n",
       "    <tr style=\"text-align: right;\">\n",
       "      <th></th>\n",
       "      <th>ID</th>\n",
       "      <th>Warehouse_block</th>\n",
       "      <th>Mode_of_Shipment</th>\n",
       "      <th>Customer_care_calls</th>\n",
       "      <th>Customer_rating</th>\n",
       "      <th>Cost_of_the_Product</th>\n",
       "      <th>Prior_purchases</th>\n",
       "      <th>Product_importance</th>\n",
       "      <th>Gender</th>\n",
       "      <th>Discount_offered</th>\n",
       "      <th>Weight_in_gms</th>\n",
       "      <th>Reached.on.Time_Y.N</th>\n",
       "    </tr>\n",
       "  </thead>\n",
       "  <tbody>\n",
       "    <tr>\n",
       "      <th>0</th>\n",
       "      <td>1</td>\n",
       "      <td>D</td>\n",
       "      <td>Flight</td>\n",
       "      <td>4</td>\n",
       "      <td>2</td>\n",
       "      <td>177</td>\n",
       "      <td>3</td>\n",
       "      <td>low</td>\n",
       "      <td>F</td>\n",
       "      <td>44</td>\n",
       "      <td>1233</td>\n",
       "      <td>1</td>\n",
       "    </tr>\n",
       "    <tr>\n",
       "      <th>1</th>\n",
       "      <td>2</td>\n",
       "      <td>E</td>\n",
       "      <td>Flight</td>\n",
       "      <td>4</td>\n",
       "      <td>5</td>\n",
       "      <td>216</td>\n",
       "      <td>2</td>\n",
       "      <td>low</td>\n",
       "      <td>M</td>\n",
       "      <td>59</td>\n",
       "      <td>3088</td>\n",
       "      <td>1</td>\n",
       "    </tr>\n",
       "    <tr>\n",
       "      <th>2</th>\n",
       "      <td>3</td>\n",
       "      <td>A</td>\n",
       "      <td>Flight</td>\n",
       "      <td>2</td>\n",
       "      <td>2</td>\n",
       "      <td>183</td>\n",
       "      <td>4</td>\n",
       "      <td>low</td>\n",
       "      <td>M</td>\n",
       "      <td>48</td>\n",
       "      <td>3374</td>\n",
       "      <td>1</td>\n",
       "    </tr>\n",
       "    <tr>\n",
       "      <th>3</th>\n",
       "      <td>4</td>\n",
       "      <td>B</td>\n",
       "      <td>Flight</td>\n",
       "      <td>3</td>\n",
       "      <td>3</td>\n",
       "      <td>176</td>\n",
       "      <td>4</td>\n",
       "      <td>medium</td>\n",
       "      <td>M</td>\n",
       "      <td>10</td>\n",
       "      <td>1177</td>\n",
       "      <td>1</td>\n",
       "    </tr>\n",
       "    <tr>\n",
       "      <th>4</th>\n",
       "      <td>5</td>\n",
       "      <td>C</td>\n",
       "      <td>Flight</td>\n",
       "      <td>2</td>\n",
       "      <td>2</td>\n",
       "      <td>184</td>\n",
       "      <td>3</td>\n",
       "      <td>medium</td>\n",
       "      <td>F</td>\n",
       "      <td>46</td>\n",
       "      <td>2484</td>\n",
       "      <td>1</td>\n",
       "    </tr>\n",
       "  </tbody>\n",
       "</table>\n",
       "</div>"
      ],
      "text/plain": [
       "   ID Warehouse_block Mode_of_Shipment  Customer_care_calls  Customer_rating  \\\n",
       "0   1               D           Flight                    4                2   \n",
       "1   2               E           Flight                    4                5   \n",
       "2   3               A           Flight                    2                2   \n",
       "3   4               B           Flight                    3                3   \n",
       "4   5               C           Flight                    2                2   \n",
       "\n",
       "   Cost_of_the_Product  Prior_purchases Product_importance Gender  \\\n",
       "0                  177                3                low      F   \n",
       "1                  216                2                low      M   \n",
       "2                  183                4                low      M   \n",
       "3                  176                4             medium      M   \n",
       "4                  184                3             medium      F   \n",
       "\n",
       "   Discount_offered  Weight_in_gms  Reached.on.Time_Y.N  \n",
       "0                44           1233                    1  \n",
       "1                59           3088                    1  \n",
       "2                48           3374                    1  \n",
       "3                10           1177                    1  \n",
       "4                46           2484                    1  "
      ]
     },
     "execution_count": 10,
     "metadata": {},
     "output_type": "execute_result"
    }
   ],
   "source": [
    "df.head()"
   ]
  },
  {
   "cell_type": "code",
   "execution_count": 11,
   "id": "9caf877b",
   "metadata": {},
   "outputs": [
    {
     "data": {
      "text/plain": [
       "array(['D', 'E', 'A', 'B', 'C'], dtype=object)"
      ]
     },
     "execution_count": 11,
     "metadata": {},
     "output_type": "execute_result"
    }
   ],
   "source": [
    "# Successfully mapped 'E' with 'F'\n",
    "df['Warehouse_block'].unique()"
   ]
  },
  {
   "cell_type": "markdown",
   "id": "aa2ba9ef",
   "metadata": {},
   "source": [
    "### Correlation Heatmap"
   ]
  },
  {
   "cell_type": "code",
   "execution_count": 12,
   "id": "2384ee51",
   "metadata": {},
   "outputs": [],
   "source": [
    "corr = df.corr()"
   ]
  },
  {
   "cell_type": "code",
   "execution_count": 14,
   "id": "f5d9acf2",
   "metadata": {},
   "outputs": [
    {
     "data": {
      "image/png": "[encoded data removed]",
      "text/plain": [
       "<Figure size 720x576 with 2 Axes>"
      ]
     },
     "metadata": {
      "needs_background": "light"
     },
     "output_type": "display_data"
    }
   ],
   "source": [
    "plt.figure(figsize=(10,8))\n",
    "sns.heatmap(corr, annot=True, cmap='RdYlGn')\n",
    "plt.show()"
   ]
  },
  {
   "cell_type": "markdown",
   "id": "df3b4ca5",
   "metadata": {},
   "source": [
    "#### There isn't enough correlation among the input features in order to drop any\n",
    "#### Dropping the uniquely identifying feature : ID"
   ]
  },
  {
   "cell_type": "code",
   "execution_count": 15,
   "id": "c9437632",
   "metadata": {},
   "outputs": [],
   "source": [
    "df.drop(['ID'],axis=1,inplace=True)"
   ]
  },
  {
   "cell_type": "markdown",
   "id": "5d50d914",
   "metadata": {},
   "source": [
    "### Train the Model"
   ]
  },
  {
   "cell_type": "code",
   "execution_count": 17,
   "id": "9b46b670",
   "metadata": {},
   "outputs": [
    {
     "data": {
      "text/html": [
       "<div>\n",
       "<style scoped>\n",
       "    .dataframe tbody tr th:only-of-type {\n",
       "        vertical-align: middle;\n",
       "    }\n",
       "\n",
       "    .dataframe tbody tr th {\n",
       "        vertical-align: top;\n",
       "    }\n",
       "\n",
       "    .dataframe thead th {\n",
       "        text-align: right;\n",
       "    }\n",
       "</style>\n",
       "<table border=\"1\" class=\"dataframe\">\n",
       "  <thead>\n",
       "    <tr style=\"text-align: right;\">\n",
       "      <th></th>\n",
       "      <th>Warehouse_block</th>\n",
       "      <th>Mode_of_Shipment</th>\n",
       "      <th>Customer_care_calls</th>\n",
       "      <th>Customer_rating</th>\n",
       "      <th>Cost_of_the_Product</th>\n",
       "      <th>Prior_purchases</th>\n",
       "      <th>Product_importance</th>\n",
       "      <th>Gender</th>\n",
       "      <th>Discount_offered</th>\n",
       "      <th>Weight_in_gms</th>\n",
       "    </tr>\n",
       "  </thead>\n",
       "  <tbody>\n",
       "    <tr>\n",
       "      <th>0</th>\n",
       "      <td>D</td>\n",
       "      <td>Flight</td>\n",
       "      <td>4</td>\n",
       "      <td>2</td>\n",
       "      <td>177</td>\n",
       "      <td>3</td>\n",
       "      <td>low</td>\n",
       "      <td>F</td>\n",
       "      <td>44</td>\n",
       "      <td>1233</td>\n",
       "    </tr>\n",
       "    <tr>\n",
       "      <th>1</th>\n",
       "      <td>E</td>\n",
       "      <td>Flight</td>\n",
       "      <td>4</td>\n",
       "      <td>5</td>\n",
       "      <td>216</td>\n",
       "      <td>2</td>\n",
       "      <td>low</td>\n",
       "      <td>M</td>\n",
       "      <td>59</td>\n",
       "      <td>3088</td>\n",
       "    </tr>\n",
       "    <tr>\n",
       "      <th>2</th>\n",
       "      <td>A</td>\n",
       "      <td>Flight</td>\n",
       "      <td>2</td>\n",
       "      <td>2</td>\n",
       "      <td>183</td>\n",
       "      <td>4</td>\n",
       "      <td>low</td>\n",
       "      <td>M</td>\n",
       "      <td>48</td>\n",
       "      <td>3374</td>\n",
       "    </tr>\n",
       "    <tr>\n",
       "      <th>3</th>\n",
       "      <td>B</td>\n",
       "      <td>Flight</td>\n",
       "      <td>3</td>\n",
       "      <td>3</td>\n",
       "      <td>176</td>\n",
       "      <td>4</td>\n",
       "      <td>medium</td>\n",
       "      <td>M</td>\n",
       "      <td>10</td>\n",
       "      <td>1177</td>\n",
       "    </tr>\n",
       "    <tr>\n",
       "      <th>4</th>\n",
       "      <td>C</td>\n",
       "      <td>Flight</td>\n",
       "      <td>2</td>\n",
       "      <td>2</td>\n",
       "      <td>184</td>\n",
       "      <td>3</td>\n",
       "      <td>medium</td>\n",
       "      <td>F</td>\n",
       "      <td>46</td>\n",
       "      <td>2484</td>\n",
       "    </tr>\n",
       "  </tbody>\n",
       "</table>\n",
       "</div>"
      ],
      "text/plain": [
       "  Warehouse_block Mode_of_Shipment  Customer_care_calls  Customer_rating  \\\n",
       "0               D           Flight                    4                2   \n",
       "1               E           Flight                    4                5   \n",
       "2               A           Flight                    2                2   \n",
       "3               B           Flight                    3                3   \n",
       "4               C           Flight                    2                2   \n",
       "\n",
       "   Cost_of_the_Product  Prior_purchases Product_importance Gender  \\\n",
       "0                  177                3                low      F   \n",
       "1                  216                2                low      M   \n",
       "2                  183                4                low      M   \n",
       "3                  176                4             medium      M   \n",
       "4                  184                3             medium      F   \n",
       "\n",
       "   Discount_offered  Weight_in_gms  \n",
       "0                44           1233  \n",
       "1                59           3088  \n",
       "2                48           3374  \n",
       "3                10           1177  \n",
       "4                46           2484  "
      ]
     },
     "execution_count": 17,
     "metadata": {},
     "output_type": "execute_result"
    }
   ],
   "source": [
    "X = df.drop(['Reached.on.Time_Y.N'],axis=1)\n",
    "X.head()"
   ]
  },
  {
   "cell_type": "code",
   "execution_count": 18,
   "id": "7c218eac",
   "metadata": {},
   "outputs": [
    {
     "data": {
      "text/plain": [
       "0    1\n",
       "1    1\n",
       "2    1\n",
       "3    1\n",
       "4    1\n",
       "Name: Reached.on.Time_Y.N, dtype: int64"
      ]
     },
     "execution_count": 18,
     "metadata": {},
     "output_type": "execute_result"
    }
   ],
   "source": [
    "y = df['Reached.on.Time_Y.N']\n",
    "y.head()"
   ]
  },
  {
   "cell_type": "code",
   "execution_count": 19,
   "id": "866b63ec",
   "metadata": {},
   "outputs": [],
   "source": [
    "X_train, X_test, y_train, y_test = train_test_split(X, y, test_size=0.33, random_state=42)"
   ]
  },
  {
   "cell_type": "markdown",
   "id": "31e755eb",
   "metadata": {},
   "source": [
    "### Preprocessing\n",
    "* Preprocessing the Train & Test Data separately to avoid Data Leakage\n",
    "#### 1.) Handling Continuous Features (Checking for the outliers)"
   ]
  },
  {
   "cell_type": "code",
   "execution_count": 20,
   "id": "e2d1c103",
   "metadata": {},
   "outputs": [
    {
     "data": {
      "image/png": "[encoded data removed]",
      "text/plain": [
       "<Figure size 1080x720 with 1 Axes>"
      ]
     },
     "metadata": {
      "needs_background": "light"
     },
     "output_type": "display_data"
    }
   ],
   "source": [
    "plt.figure(figsize=(15,10))\n",
    "X_train.boxplot()\n",
    "plt.show()"
   ]
  },
  {
   "cell_type": "markdown",
   "id": "40389507",
   "metadata": {},
   "source": [
    "#### Features with OUTLIERS\n",
    "* A) Prior_purchases\n",
    "* B) Discount_offered"
   ]
  },
  {
   "cell_type": "code",
   "execution_count": 21,
   "id": "ff84ada3",
   "metadata": {},
   "outputs": [
    {
     "data": {
      "text/plain": [
       "['Discount_offered', 'Prior_purchases']"
      ]
     },
     "execution_count": 21,
     "metadata": {},
     "output_type": "execute_result"
    }
   ],
   "source": [
    "outliers_features = ['Discount_offered', 'Prior_purchases']\n",
    "outliers_features"
   ]
  },
  {
   "cell_type": "markdown",
   "id": "f99bb12d",
   "metadata": {},
   "source": [
    "### Creating a Custom Transformer to Handle Outliers"
   ]
  },
  {
   "cell_type": "code",
   "execution_count": 22,
   "id": "846f398b",
   "metadata": {},
   "outputs": [],
   "source": [
    "# My custom Transformer to handle the Outliers\n",
    "\n",
    "from sklearn.base import TransformerMixin\n",
    "import pandas as pd\n",
    "pd.options.mode.chained_assignment = None  # To ignore the warning for not returning a copied DataFrame\n",
    "\n",
    "class HandleOutliers(TransformerMixin):\n",
    "    \n",
    "    def fit(self, X, y=None):\n",
    "        return self\n",
    "    \n",
    "    def transform(self, X):\n",
    "\n",
    "        from scipy.stats import shapiro\n",
    "\n",
    "        for col in X.columns : # Looping through all columns within the given DataFrame\n",
    "            \n",
    "            # If p-value < 0.05 == Skewed Distribution, else Normal Distribution\n",
    "            \n",
    "            if shapiro(X[col]).pvalue < 0.05 :\n",
    "\n",
    "                # IQR method to handle outliers with Skewed Distribution\n",
    "                q1 = X[col].quantile(0.25)\n",
    "                q3 = X[col].quantile(0.75)\n",
    "\n",
    "                iqr = q3 - q1\n",
    "\n",
    "                lower_boundary = q1 - 1.5 * q1\n",
    "                upper_boundary = q3 + 1.5 * q3\n",
    "\n",
    "                X.loc[X[col] <= lower_boundary, col] = lower_boundary\n",
    "                X.loc[X[col] >= upper_boundary, col] = upper_boundary\n",
    "\n",
    "                \n",
    "            else :\n",
    "\n",
    "                # 3-Sigma method to handle outliers with Normal Distribution\n",
    "                lower_boundary = X[col].mean() - 3 * X[col].std()\n",
    "                upper_boundary = X[col].mean() + 3 * X[col].std()\n",
    "\n",
    "                X.loc[X[col] <= lower_boundary, col] = lower_boundary\n",
    "                X.loc[X[col] >= upper_boundary, col] = upper_boundary\n",
    "                \n",
    "        return X"
   ]
  },
  {
   "cell_type": "code",
   "execution_count": 23,
   "id": "1c5a5b94",
   "metadata": {},
   "outputs": [],
   "source": [
    "outliers = HandleOutliers()"
   ]
  },
  {
   "cell_type": "code",
   "execution_count": 24,
   "id": "f66ebb08",
   "metadata": {},
   "outputs": [
    {
     "data": {
      "image/png": "[encoded data removed]",
      "text/plain": [
       "<Figure size 432x288 with 2 Axes>"
      ]
     },
     "metadata": {
      "needs_background": "light"
     },
     "output_type": "display_data"
    }
   ],
   "source": [
    "# X_train before handling the outliers\n",
    "X_train[outliers_features].hist(bins=50)\n",
    "plt.show()"
   ]
  },
  {
   "cell_type": "code",
   "execution_count": 25,
   "id": "91b8469c",
   "metadata": {},
   "outputs": [
    {
     "name": "stderr",
     "output_type": "stream",
     "text": [
      "D:\\Softwares\\Anaconda3\\lib\\site-packages\\scipy\\stats\\morestats.py:1681: UserWarning: p-value may not be accurate for N > 5000.\n",
      "  warnings.warn(\"p-value may not be accurate for N > 5000.\")\n",
      "D:\\Softwares\\Anaconda3\\lib\\site-packages\\scipy\\stats\\morestats.py:1681: UserWarning: p-value may not be accurate for N > 5000.\n",
      "  warnings.warn(\"p-value may not be accurate for N > 5000.\")\n"
     ]
    }
   ],
   "source": [
    "outliers_df = outliers.fit_transform(X_train[outliers_features])"
   ]
  },
  {
   "cell_type": "code",
   "execution_count": 26,
   "id": "f417779d",
   "metadata": {},
   "outputs": [
    {
     "data": {
      "image/png": "[encoded data removed]",
      "text/plain": [
       "<Figure size 432x288 with 2 Axes>"
      ]
     },
     "metadata": {
      "needs_background": "light"
     },
     "output_type": "display_data"
    }
   ],
   "source": [
    "outliers_df.hist(bins=50)\n",
    "plt.show()"
   ]
  },
  {
   "cell_type": "code",
   "execution_count": 27,
   "id": "521857a1",
   "metadata": {},
   "outputs": [],
   "source": [
    "X_train.drop(outliers_features, axis=1, inplace=True)"
   ]
  },
  {
   "cell_type": "code",
   "execution_count": 28,
   "id": "92bf8974",
   "metadata": {},
   "outputs": [],
   "source": [
    "X_train = pd.concat([X_train, outliers_df], axis=1)"
   ]
  },
  {
   "cell_type": "code",
   "execution_count": 29,
   "id": "0b84402f",
   "metadata": {},
   "outputs": [
    {
     "data": {
      "text/html": [
       "<div>\n",
       "<style scoped>\n",
       "    .dataframe tbody tr th:only-of-type {\n",
       "        vertical-align: middle;\n",
       "    }\n",
       "\n",
       "    .dataframe tbody tr th {\n",
       "        vertical-align: top;\n",
       "    }\n",
       "\n",
       "    .dataframe thead th {\n",
       "        text-align: right;\n",
       "    }\n",
       "</style>\n",
       "<table border=\"1\" class=\"dataframe\">\n",
       "  <thead>\n",
       "    <tr style=\"text-align: right;\">\n",
       "      <th></th>\n",
       "      <th>Warehouse_block</th>\n",
       "      <th>Mode_of_Shipment</th>\n",
       "      <th>Customer_care_calls</th>\n",
       "      <th>Customer_rating</th>\n",
       "      <th>Cost_of_the_Product</th>\n",
       "      <th>Product_importance</th>\n",
       "      <th>Gender</th>\n",
       "      <th>Weight_in_gms</th>\n",
       "      <th>Discount_offered</th>\n",
       "      <th>Prior_purchases</th>\n",
       "    </tr>\n",
       "  </thead>\n",
       "  <tbody>\n",
       "    <tr>\n",
       "      <th>2400</th>\n",
       "      <td>D</td>\n",
       "      <td>Ship</td>\n",
       "      <td>2</td>\n",
       "      <td>5</td>\n",
       "      <td>171</td>\n",
       "      <td>medium</td>\n",
       "      <td>F</td>\n",
       "      <td>1101</td>\n",
       "      <td>13.0</td>\n",
       "      <td>3.0</td>\n",
       "    </tr>\n",
       "    <tr>\n",
       "      <th>5559</th>\n",
       "      <td>B</td>\n",
       "      <td>Ship</td>\n",
       "      <td>4</td>\n",
       "      <td>1</td>\n",
       "      <td>144</td>\n",
       "      <td>medium</td>\n",
       "      <td>M</td>\n",
       "      <td>5197</td>\n",
       "      <td>6.0</td>\n",
       "      <td>4.0</td>\n",
       "    </tr>\n",
       "    <tr>\n",
       "      <th>1143</th>\n",
       "      <td>B</td>\n",
       "      <td>Ship</td>\n",
       "      <td>3</td>\n",
       "      <td>3</td>\n",
       "      <td>224</td>\n",
       "      <td>low</td>\n",
       "      <td>F</td>\n",
       "      <td>3220</td>\n",
       "      <td>25.0</td>\n",
       "      <td>2.0</td>\n",
       "    </tr>\n",
       "    <tr>\n",
       "      <th>7699</th>\n",
       "      <td>E</td>\n",
       "      <td>Ship</td>\n",
       "      <td>2</td>\n",
       "      <td>1</td>\n",
       "      <td>149</td>\n",
       "      <td>medium</td>\n",
       "      <td>F</td>\n",
       "      <td>5434</td>\n",
       "      <td>7.0</td>\n",
       "      <td>4.0</td>\n",
       "    </tr>\n",
       "    <tr>\n",
       "      <th>5731</th>\n",
       "      <td>E</td>\n",
       "      <td>Road</td>\n",
       "      <td>3</td>\n",
       "      <td>4</td>\n",
       "      <td>191</td>\n",
       "      <td>medium</td>\n",
       "      <td>F</td>\n",
       "      <td>4243</td>\n",
       "      <td>4.0</td>\n",
       "      <td>5.0</td>\n",
       "    </tr>\n",
       "  </tbody>\n",
       "</table>\n",
       "</div>"
      ],
      "text/plain": [
       "     Warehouse_block Mode_of_Shipment  Customer_care_calls  Customer_rating  \\\n",
       "2400               D             Ship                    2                5   \n",
       "5559               B             Ship                    4                1   \n",
       "1143               B             Ship                    3                3   \n",
       "7699               E             Ship                    2                1   \n",
       "5731               E             Road                    3                4   \n",
       "\n",
       "      Cost_of_the_Product Product_importance Gender  Weight_in_gms  \\\n",
       "2400                  171             medium      F           1101   \n",
       "5559                  144             medium      M           5197   \n",
       "1143                  224                low      F           3220   \n",
       "7699                  149             medium      F           5434   \n",
       "5731                  191             medium      F           4243   \n",
       "\n",
       "      Discount_offered  Prior_purchases  \n",
       "2400              13.0              3.0  \n",
       "5559               6.0              4.0  \n",
       "1143              25.0              2.0  \n",
       "7699               7.0              4.0  \n",
       "5731               4.0              5.0  "
      ]
     },
     "execution_count": 29,
     "metadata": {},
     "output_type": "execute_result"
    }
   ],
   "source": [
    "X_train.head()"
   ]
  },
  {
   "cell_type": "code",
   "execution_count": 30,
   "id": "96caa5cc",
   "metadata": {},
   "outputs": [
    {
     "data": {
      "image/png": "[encoded data removed]",
      "text/plain": [
       "<Figure size 432x288 with 2 Axes>"
      ]
     },
     "metadata": {
      "needs_background": "light"
     },
     "output_type": "display_data"
    }
   ],
   "source": [
    "# X_train after handling the outliers\n",
    "X_train[outliers_features].hist(bins=50)\n",
    "plt.show()"
   ]
  },
  {
   "cell_type": "markdown",
   "id": "b0a672d8",
   "metadata": {},
   "source": [
    "#### 2.) Handling Categorical Features (Encoding)"
   ]
  },
  {
   "cell_type": "code",
   "execution_count": 31,
   "id": "e31a475a",
   "metadata": {},
   "outputs": [
    {
     "data": {
      "text/plain": [
       "['Warehouse_block', 'Mode_of_Shipment', 'Product_importance', 'Gender']"
      ]
     },
     "execution_count": 31,
     "metadata": {},
     "output_type": "execute_result"
    }
   ],
   "source": [
    "# Appending all the features with dtype == 'object' (Categorical Features) in a list\n",
    "cat_features = []\n",
    "\n",
    "for col in X_train.columns :\n",
    "    if X_train[col].dtype == 'object' :\n",
    "        cat_features.append(col)\n",
    "        \n",
    "cat_features"
   ]
  },
  {
   "cell_type": "markdown",
   "id": "28e4fe25",
   "metadata": {},
   "source": [
    "##### Nominal Features (To OneHot Encode)\n",
    "* 1) Warehouse_block\n",
    "\n",
    "* 2) Mode_of_Shipment\n",
    "\n",
    "* 3) Gender\n",
    "\n",
    "##### Ordinal Features (I will use the map method for this)\n",
    "* 4) Product_importance\n",
    "##### a) OneHotEncoding"
   ]
  },
  {
   "cell_type": "code",
   "execution_count": 32,
   "id": "f3df4330",
   "metadata": {},
   "outputs": [],
   "source": [
    "dummies_WH_Block = pd.get_dummies(X_train['Warehouse_block'], prefix='WH_Block', drop_first=True)\n",
    "dummies_Mode_of_S = pd.get_dummies(X_train['Mode_of_Shipment'], prefix='Mode_of_S', drop_first=True)\n",
    "dummies_Gender = pd.get_dummies(X_train['Gender'], prefix='Gender', drop_first=True)"
   ]
  },
  {
   "cell_type": "code",
   "execution_count": 33,
   "id": "02ffedfb",
   "metadata": {},
   "outputs": [],
   "source": [
    "encode_df = pd.concat([dummies_WH_Block, dummies_Mode_of_S, dummies_Gender], axis=1)"
   ]
  },
  {
   "cell_type": "code",
   "execution_count": 34,
   "id": "21ba6ea6",
   "metadata": {},
   "outputs": [
    {
     "data": {
      "text/html": [
       "<div>\n",
       "<style scoped>\n",
       "    .dataframe tbody tr th:only-of-type {\n",
       "        vertical-align: middle;\n",
       "    }\n",
       "\n",
       "    .dataframe tbody tr th {\n",
       "        vertical-align: top;\n",
       "    }\n",
       "\n",
       "    .dataframe thead th {\n",
       "        text-align: right;\n",
       "    }\n",
       "</style>\n",
       "<table border=\"1\" class=\"dataframe\">\n",
       "  <thead>\n",
       "    <tr style=\"text-align: right;\">\n",
       "      <th></th>\n",
       "      <th>WH_Block_B</th>\n",
       "      <th>WH_Block_C</th>\n",
       "      <th>WH_Block_D</th>\n",
       "      <th>WH_Block_E</th>\n",
       "      <th>Mode_of_S_Road</th>\n",
       "      <th>Mode_of_S_Ship</th>\n",
       "      <th>Gender_M</th>\n",
       "    </tr>\n",
       "  </thead>\n",
       "  <tbody>\n",
       "    <tr>\n",
       "      <th>2400</th>\n",
       "      <td>0</td>\n",
       "      <td>0</td>\n",
       "      <td>1</td>\n",
       "      <td>0</td>\n",
       "      <td>0</td>\n",
       "      <td>1</td>\n",
       "      <td>0</td>\n",
       "    </tr>\n",
       "    <tr>\n",
       "      <th>5559</th>\n",
       "      <td>1</td>\n",
       "      <td>0</td>\n",
       "      <td>0</td>\n",
       "      <td>0</td>\n",
       "      <td>0</td>\n",
       "      <td>1</td>\n",
       "      <td>1</td>\n",
       "    </tr>\n",
       "    <tr>\n",
       "      <th>1143</th>\n",
       "      <td>1</td>\n",
       "      <td>0</td>\n",
       "      <td>0</td>\n",
       "      <td>0</td>\n",
       "      <td>0</td>\n",
       "      <td>1</td>\n",
       "      <td>0</td>\n",
       "    </tr>\n",
       "    <tr>\n",
       "      <th>7699</th>\n",
       "      <td>0</td>\n",
       "      <td>0</td>\n",
       "      <td>0</td>\n",
       "      <td>1</td>\n",
       "      <td>0</td>\n",
       "      <td>1</td>\n",
       "      <td>0</td>\n",
       "    </tr>\n",
       "    <tr>\n",
       "      <th>5731</th>\n",
       "      <td>0</td>\n",
       "      <td>0</td>\n",
       "      <td>0</td>\n",
       "      <td>1</td>\n",
       "      <td>1</td>\n",
       "      <td>0</td>\n",
       "      <td>0</td>\n",
       "    </tr>\n",
       "  </tbody>\n",
       "</table>\n",
       "</div>"
      ],
      "text/plain": [
       "      WH_Block_B  WH_Block_C  WH_Block_D  WH_Block_E  Mode_of_S_Road  \\\n",
       "2400           0           0           1           0               0   \n",
       "5559           1           0           0           0               0   \n",
       "1143           1           0           0           0               0   \n",
       "7699           0           0           0           1               0   \n",
       "5731           0           0           0           1               1   \n",
       "\n",
       "      Mode_of_S_Ship  Gender_M  \n",
       "2400               1         0  \n",
       "5559               1         1  \n",
       "1143               1         0  \n",
       "7699               1         0  \n",
       "5731               0         0  "
      ]
     },
     "execution_count": 34,
     "metadata": {},
     "output_type": "execute_result"
    }
   ],
   "source": [
    "encode_df.head()\n"
   ]
  },
  {
   "cell_type": "code",
   "execution_count": 35,
   "id": "1c56d4b9",
   "metadata": {},
   "outputs": [],
   "source": [
    "X_train = pd.concat([X_train, encode_df], axis=1)"
   ]
  },
  {
   "cell_type": "code",
   "execution_count": 36,
   "id": "bff5bc7b",
   "metadata": {},
   "outputs": [],
   "source": [
    "X_train.drop(['Warehouse_block', 'Mode_of_Shipment', 'Gender'], axis=1, inplace=True)"
   ]
  },
  {
   "cell_type": "code",
   "execution_count": 37,
   "id": "236bbddc",
   "metadata": {},
   "outputs": [
    {
     "data": {
      "text/html": [
       "<div>\n",
       "<style scoped>\n",
       "    .dataframe tbody tr th:only-of-type {\n",
       "        vertical-align: middle;\n",
       "    }\n",
       "\n",
       "    .dataframe tbody tr th {\n",
       "        vertical-align: top;\n",
       "    }\n",
       "\n",
       "    .dataframe thead th {\n",
       "        text-align: right;\n",
       "    }\n",
       "</style>\n",
       "<table border=\"1\" class=\"dataframe\">\n",
       "  <thead>\n",
       "    <tr style=\"text-align: right;\">\n",
       "      <th></th>\n",
       "      <th>Customer_care_calls</th>\n",
       "      <th>Customer_rating</th>\n",
       "      <th>Cost_of_the_Product</th>\n",
       "      <th>Product_importance</th>\n",
       "      <th>Weight_in_gms</th>\n",
       "      <th>Discount_offered</th>\n",
       "      <th>Prior_purchases</th>\n",
       "      <th>WH_Block_B</th>\n",
       "      <th>WH_Block_C</th>\n",
       "      <th>WH_Block_D</th>\n",
       "      <th>WH_Block_E</th>\n",
       "      <th>Mode_of_S_Road</th>\n",
       "      <th>Mode_of_S_Ship</th>\n",
       "      <th>Gender_M</th>\n",
       "    </tr>\n",
       "  </thead>\n",
       "  <tbody>\n",
       "    <tr>\n",
       "      <th>2400</th>\n",
       "      <td>2</td>\n",
       "      <td>5</td>\n",
       "      <td>171</td>\n",
       "      <td>medium</td>\n",
       "      <td>1101</td>\n",
       "      <td>13.0</td>\n",
       "      <td>3.0</td>\n",
       "      <td>0</td>\n",
       "      <td>0</td>\n",
       "      <td>1</td>\n",
       "      <td>0</td>\n",
       "      <td>0</td>\n",
       "      <td>1</td>\n",
       "      <td>0</td>\n",
       "    </tr>\n",
       "    <tr>\n",
       "      <th>5559</th>\n",
       "      <td>4</td>\n",
       "      <td>1</td>\n",
       "      <td>144</td>\n",
       "      <td>medium</td>\n",
       "      <td>5197</td>\n",
       "      <td>6.0</td>\n",
       "      <td>4.0</td>\n",
       "      <td>1</td>\n",
       "      <td>0</td>\n",
       "      <td>0</td>\n",
       "      <td>0</td>\n",
       "      <td>0</td>\n",
       "      <td>1</td>\n",
       "      <td>1</td>\n",
       "    </tr>\n",
       "    <tr>\n",
       "      <th>1143</th>\n",
       "      <td>3</td>\n",
       "      <td>3</td>\n",
       "      <td>224</td>\n",
       "      <td>low</td>\n",
       "      <td>3220</td>\n",
       "      <td>25.0</td>\n",
       "      <td>2.0</td>\n",
       "      <td>1</td>\n",
       "      <td>0</td>\n",
       "      <td>0</td>\n",
       "      <td>0</td>\n",
       "      <td>0</td>\n",
       "      <td>1</td>\n",
       "      <td>0</td>\n",
       "    </tr>\n",
       "    <tr>\n",
       "      <th>7699</th>\n",
       "      <td>2</td>\n",
       "      <td>1</td>\n",
       "      <td>149</td>\n",
       "      <td>medium</td>\n",
       "      <td>5434</td>\n",
       "      <td>7.0</td>\n",
       "      <td>4.0</td>\n",
       "      <td>0</td>\n",
       "      <td>0</td>\n",
       "      <td>0</td>\n",
       "      <td>1</td>\n",
       "      <td>0</td>\n",
       "      <td>1</td>\n",
       "      <td>0</td>\n",
       "    </tr>\n",
       "    <tr>\n",
       "      <th>5731</th>\n",
       "      <td>3</td>\n",
       "      <td>4</td>\n",
       "      <td>191</td>\n",
       "      <td>medium</td>\n",
       "      <td>4243</td>\n",
       "      <td>4.0</td>\n",
       "      <td>5.0</td>\n",
       "      <td>0</td>\n",
       "      <td>0</td>\n",
       "      <td>0</td>\n",
       "      <td>1</td>\n",
       "      <td>1</td>\n",
       "      <td>0</td>\n",
       "      <td>0</td>\n",
       "    </tr>\n",
       "  </tbody>\n",
       "</table>\n",
       "</div>"
      ],
      "text/plain": [
       "      Customer_care_calls  Customer_rating  Cost_of_the_Product  \\\n",
       "2400                    2                5                  171   \n",
       "5559                    4                1                  144   \n",
       "1143                    3                3                  224   \n",
       "7699                    2                1                  149   \n",
       "5731                    3                4                  191   \n",
       "\n",
       "     Product_importance  Weight_in_gms  Discount_offered  Prior_purchases  \\\n",
       "2400             medium           1101              13.0              3.0   \n",
       "5559             medium           5197               6.0              4.0   \n",
       "1143                low           3220              25.0              2.0   \n",
       "7699             medium           5434               7.0              4.0   \n",
       "5731             medium           4243               4.0              5.0   \n",
       "\n",
       "      WH_Block_B  WH_Block_C  WH_Block_D  WH_Block_E  Mode_of_S_Road  \\\n",
       "2400           0           0           1           0               0   \n",
       "5559           1           0           0           0               0   \n",
       "1143           1           0           0           0               0   \n",
       "7699           0           0           0           1               0   \n",
       "5731           0           0           0           1               1   \n",
       "\n",
       "      Mode_of_S_Ship  Gender_M  \n",
       "2400               1         0  \n",
       "5559               1         1  \n",
       "1143               1         0  \n",
       "7699               1         0  \n",
       "5731               0         0  "
      ]
     },
     "execution_count": 37,
     "metadata": {},
     "output_type": "execute_result"
    }
   ],
   "source": [
    "# New X_train with OneHot Encoded features\n",
    "X_train.head()"
   ]
  },
  {
   "cell_type": "markdown",
   "id": "4f8ff7aa",
   "metadata": {},
   "source": [
    "##### b) Ordinal Encoding (using map method)"
   ]
  },
  {
   "cell_type": "code",
   "execution_count": 38,
   "id": "a74d20ef",
   "metadata": {},
   "outputs": [
    {
     "data": {
      "text/plain": [
       "array(['medium', 'low', 'high'], dtype=object)"
      ]
     },
     "execution_count": 38,
     "metadata": {},
     "output_type": "execute_result"
    }
   ],
   "source": [
    "X_train['Product_importance'].unique()"
   ]
  },
  {
   "cell_type": "code",
   "execution_count": 39,
   "id": "997f84ff",
   "metadata": {},
   "outputs": [],
   "source": [
    "Product_imp = {\n",
    "    'low' : 0,\n",
    "    'medium' : 1,\n",
    "    'high' : 2\n",
    "}"
   ]
  },
  {
   "cell_type": "code",
   "execution_count": 40,
   "id": "9174d333",
   "metadata": {},
   "outputs": [],
   "source": [
    "X_train['Product_Importance'] = X_train['Product_importance'].map(Product_imp)"
   ]
  },
  {
   "cell_type": "code",
   "execution_count": 41,
   "id": "3fe289a9",
   "metadata": {},
   "outputs": [
    {
     "data": {
      "text/html": [
       "<div>\n",
       "<style scoped>\n",
       "    .dataframe tbody tr th:only-of-type {\n",
       "        vertical-align: middle;\n",
       "    }\n",
       "\n",
       "    .dataframe tbody tr th {\n",
       "        vertical-align: top;\n",
       "    }\n",
       "\n",
       "    .dataframe thead th {\n",
       "        text-align: right;\n",
       "    }\n",
       "</style>\n",
       "<table border=\"1\" class=\"dataframe\">\n",
       "  <thead>\n",
       "    <tr style=\"text-align: right;\">\n",
       "      <th></th>\n",
       "      <th>Customer_care_calls</th>\n",
       "      <th>Customer_rating</th>\n",
       "      <th>Cost_of_the_Product</th>\n",
       "      <th>Product_importance</th>\n",
       "      <th>Weight_in_gms</th>\n",
       "      <th>Discount_offered</th>\n",
       "      <th>Prior_purchases</th>\n",
       "      <th>WH_Block_B</th>\n",
       "      <th>WH_Block_C</th>\n",
       "      <th>WH_Block_D</th>\n",
       "      <th>WH_Block_E</th>\n",
       "      <th>Mode_of_S_Road</th>\n",
       "      <th>Mode_of_S_Ship</th>\n",
       "      <th>Gender_M</th>\n",
       "      <th>Product_Importance</th>\n",
       "    </tr>\n",
       "  </thead>\n",
       "  <tbody>\n",
       "    <tr>\n",
       "      <th>2400</th>\n",
       "      <td>2</td>\n",
       "      <td>5</td>\n",
       "      <td>171</td>\n",
       "      <td>medium</td>\n",
       "      <td>1101</td>\n",
       "      <td>13.0</td>\n",
       "      <td>3.0</td>\n",
       "      <td>0</td>\n",
       "      <td>0</td>\n",
       "      <td>1</td>\n",
       "      <td>0</td>\n",
       "      <td>0</td>\n",
       "      <td>1</td>\n",
       "      <td>0</td>\n",
       "      <td>1</td>\n",
       "    </tr>\n",
       "    <tr>\n",
       "      <th>5559</th>\n",
       "      <td>4</td>\n",
       "      <td>1</td>\n",
       "      <td>144</td>\n",
       "      <td>medium</td>\n",
       "      <td>5197</td>\n",
       "      <td>6.0</td>\n",
       "      <td>4.0</td>\n",
       "      <td>1</td>\n",
       "      <td>0</td>\n",
       "      <td>0</td>\n",
       "      <td>0</td>\n",
       "      <td>0</td>\n",
       "      <td>1</td>\n",
       "      <td>1</td>\n",
       "      <td>1</td>\n",
       "    </tr>\n",
       "    <tr>\n",
       "      <th>1143</th>\n",
       "      <td>3</td>\n",
       "      <td>3</td>\n",
       "      <td>224</td>\n",
       "      <td>low</td>\n",
       "      <td>3220</td>\n",
       "      <td>25.0</td>\n",
       "      <td>2.0</td>\n",
       "      <td>1</td>\n",
       "      <td>0</td>\n",
       "      <td>0</td>\n",
       "      <td>0</td>\n",
       "      <td>0</td>\n",
       "      <td>1</td>\n",
       "      <td>0</td>\n",
       "      <td>0</td>\n",
       "    </tr>\n",
       "    <tr>\n",
       "      <th>7699</th>\n",
       "      <td>2</td>\n",
       "      <td>1</td>\n",
       "      <td>149</td>\n",
       "      <td>medium</td>\n",
       "      <td>5434</td>\n",
       "      <td>7.0</td>\n",
       "      <td>4.0</td>\n",
       "      <td>0</td>\n",
       "      <td>0</td>\n",
       "      <td>0</td>\n",
       "      <td>1</td>\n",
       "      <td>0</td>\n",
       "      <td>1</td>\n",
       "      <td>0</td>\n",
       "      <td>1</td>\n",
       "    </tr>\n",
       "    <tr>\n",
       "      <th>5731</th>\n",
       "      <td>3</td>\n",
       "      <td>4</td>\n",
       "      <td>191</td>\n",
       "      <td>medium</td>\n",
       "      <td>4243</td>\n",
       "      <td>4.0</td>\n",
       "      <td>5.0</td>\n",
       "      <td>0</td>\n",
       "      <td>0</td>\n",
       "      <td>0</td>\n",
       "      <td>1</td>\n",
       "      <td>1</td>\n",
       "      <td>0</td>\n",
       "      <td>0</td>\n",
       "      <td>1</td>\n",
       "    </tr>\n",
       "  </tbody>\n",
       "</table>\n",
       "</div>"
      ],
      "text/plain": [
       "      Customer_care_calls  Customer_rating  Cost_of_the_Product  \\\n",
       "2400                    2                5                  171   \n",
       "5559                    4                1                  144   \n",
       "1143                    3                3                  224   \n",
       "7699                    2                1                  149   \n",
       "5731                    3                4                  191   \n",
       "\n",
       "     Product_importance  Weight_in_gms  Discount_offered  Prior_purchases  \\\n",
       "2400             medium           1101              13.0              3.0   \n",
       "5559             medium           5197               6.0              4.0   \n",
       "1143                low           3220              25.0              2.0   \n",
       "7699             medium           5434               7.0              4.0   \n",
       "5731             medium           4243               4.0              5.0   \n",
       "\n",
       "      WH_Block_B  WH_Block_C  WH_Block_D  WH_Block_E  Mode_of_S_Road  \\\n",
       "2400           0           0           1           0               0   \n",
       "5559           1           0           0           0               0   \n",
       "1143           1           0           0           0               0   \n",
       "7699           0           0           0           1               0   \n",
       "5731           0           0           0           1               1   \n",
       "\n",
       "      Mode_of_S_Ship  Gender_M  Product_Importance  \n",
       "2400               1         0                   1  \n",
       "5559               1         1                   1  \n",
       "1143               1         0                   0  \n",
       "7699               1         0                   1  \n",
       "5731               0         0                   1  "
      ]
     },
     "execution_count": 41,
     "metadata": {},
     "output_type": "execute_result"
    }
   ],
   "source": [
    "X_train.head()"
   ]
  },
  {
   "cell_type": "code",
   "execution_count": 42,
   "id": "74adec68",
   "metadata": {},
   "outputs": [
    {
     "data": {
      "text/plain": [
       "array([1, 0, 2], dtype=int64)"
      ]
     },
     "execution_count": 42,
     "metadata": {},
     "output_type": "execute_result"
    }
   ],
   "source": [
    "X_train['Product_Importance'].unique()"
   ]
  },
  {
   "cell_type": "code",
   "execution_count": 43,
   "id": "c424e2ca",
   "metadata": {},
   "outputs": [],
   "source": [
    "X_train.drop(['Product_importance'], axis=1, inplace=True)"
   ]
  },
  {
   "cell_type": "code",
   "execution_count": 44,
   "id": "e3db3000",
   "metadata": {},
   "outputs": [
    {
     "data": {
      "text/html": [
       "<div>\n",
       "<style scoped>\n",
       "    .dataframe tbody tr th:only-of-type {\n",
       "        vertical-align: middle;\n",
       "    }\n",
       "\n",
       "    .dataframe tbody tr th {\n",
       "        vertical-align: top;\n",
       "    }\n",
       "\n",
       "    .dataframe thead th {\n",
       "        text-align: right;\n",
       "    }\n",
       "</style>\n",
       "<table border=\"1\" class=\"dataframe\">\n",
       "  <thead>\n",
       "    <tr style=\"text-align: right;\">\n",
       "      <th></th>\n",
       "      <th>Customer_care_calls</th>\n",
       "      <th>Customer_rating</th>\n",
       "      <th>Cost_of_the_Product</th>\n",
       "      <th>Weight_in_gms</th>\n",
       "      <th>Discount_offered</th>\n",
       "      <th>Prior_purchases</th>\n",
       "      <th>WH_Block_B</th>\n",
       "      <th>WH_Block_C</th>\n",
       "      <th>WH_Block_D</th>\n",
       "      <th>WH_Block_E</th>\n",
       "      <th>Mode_of_S_Road</th>\n",
       "      <th>Mode_of_S_Ship</th>\n",
       "      <th>Gender_M</th>\n",
       "      <th>Product_Importance</th>\n",
       "    </tr>\n",
       "  </thead>\n",
       "  <tbody>\n",
       "    <tr>\n",
       "      <th>2400</th>\n",
       "      <td>2</td>\n",
       "      <td>5</td>\n",
       "      <td>171</td>\n",
       "      <td>1101</td>\n",
       "      <td>13.0</td>\n",
       "      <td>3.0</td>\n",
       "      <td>0</td>\n",
       "      <td>0</td>\n",
       "      <td>1</td>\n",
       "      <td>0</td>\n",
       "      <td>0</td>\n",
       "      <td>1</td>\n",
       "      <td>0</td>\n",
       "      <td>1</td>\n",
       "    </tr>\n",
       "    <tr>\n",
       "      <th>5559</th>\n",
       "      <td>4</td>\n",
       "      <td>1</td>\n",
       "      <td>144</td>\n",
       "      <td>5197</td>\n",
       "      <td>6.0</td>\n",
       "      <td>4.0</td>\n",
       "      <td>1</td>\n",
       "      <td>0</td>\n",
       "      <td>0</td>\n",
       "      <td>0</td>\n",
       "      <td>0</td>\n",
       "      <td>1</td>\n",
       "      <td>1</td>\n",
       "      <td>1</td>\n",
       "    </tr>\n",
       "    <tr>\n",
       "      <th>1143</th>\n",
       "      <td>3</td>\n",
       "      <td>3</td>\n",
       "      <td>224</td>\n",
       "      <td>3220</td>\n",
       "      <td>25.0</td>\n",
       "      <td>2.0</td>\n",
       "      <td>1</td>\n",
       "      <td>0</td>\n",
       "      <td>0</td>\n",
       "      <td>0</td>\n",
       "      <td>0</td>\n",
       "      <td>1</td>\n",
       "      <td>0</td>\n",
       "      <td>0</td>\n",
       "    </tr>\n",
       "    <tr>\n",
       "      <th>7699</th>\n",
       "      <td>2</td>\n",
       "      <td>1</td>\n",
       "      <td>149</td>\n",
       "      <td>5434</td>\n",
       "      <td>7.0</td>\n",
       "      <td>4.0</td>\n",
       "      <td>0</td>\n",
       "      <td>0</td>\n",
       "      <td>0</td>\n",
       "      <td>1</td>\n",
       "      <td>0</td>\n",
       "      <td>1</td>\n",
       "      <td>0</td>\n",
       "      <td>1</td>\n",
       "    </tr>\n",
       "    <tr>\n",
       "      <th>5731</th>\n",
       "      <td>3</td>\n",
       "      <td>4</td>\n",
       "      <td>191</td>\n",
       "      <td>4243</td>\n",
       "      <td>4.0</td>\n",
       "      <td>5.0</td>\n",
       "      <td>0</td>\n",
       "      <td>0</td>\n",
       "      <td>0</td>\n",
       "      <td>1</td>\n",
       "      <td>1</td>\n",
       "      <td>0</td>\n",
       "      <td>0</td>\n",
       "      <td>1</td>\n",
       "    </tr>\n",
       "  </tbody>\n",
       "</table>\n",
       "</div>"
      ],
      "text/plain": [
       "      Customer_care_calls  Customer_rating  Cost_of_the_Product  \\\n",
       "2400                    2                5                  171   \n",
       "5559                    4                1                  144   \n",
       "1143                    3                3                  224   \n",
       "7699                    2                1                  149   \n",
       "5731                    3                4                  191   \n",
       "\n",
       "      Weight_in_gms  Discount_offered  Prior_purchases  WH_Block_B  \\\n",
       "2400           1101              13.0              3.0           0   \n",
       "5559           5197               6.0              4.0           1   \n",
       "1143           3220              25.0              2.0           1   \n",
       "7699           5434               7.0              4.0           0   \n",
       "5731           4243               4.0              5.0           0   \n",
       "\n",
       "      WH_Block_C  WH_Block_D  WH_Block_E  Mode_of_S_Road  Mode_of_S_Ship  \\\n",
       "2400           0           1           0               0               1   \n",
       "5559           0           0           0               0               1   \n",
       "1143           0           0           0               0               1   \n",
       "7699           0           0           1               0               1   \n",
       "5731           0           0           1               1               0   \n",
       "\n",
       "      Gender_M  Product_Importance  \n",
       "2400         0                   1  \n",
       "5559         1                   1  \n",
       "1143         0                   0  \n",
       "7699         0                   1  \n",
       "5731         0                   1  "
      ]
     },
     "execution_count": 44,
     "metadata": {},
     "output_type": "execute_result"
    }
   ],
   "source": [
    "# New X_train with Ordinal values of the feature 'Product_Importance'\n",
    "X_train.head()"
   ]
  },
  {
   "cell_type": "markdown",
   "id": "90202ae8",
   "metadata": {},
   "source": [
    "### Preprocessing Test Data Seperately"
   ]
  },
  {
   "cell_type": "code",
   "execution_count": 45,
   "id": "a7fa98b4",
   "metadata": {},
   "outputs": [],
   "source": [
    "# 1. Handling the outliers (Using transform method for Test data)\n",
    "outliers_df = outliers.transform(X_test[outliers_features])\n",
    "\n",
    "X_test.drop(outliers_features, axis=1, inplace=True)\n",
    "\n",
    "X_test = pd.concat([X_test, outliers_df], axis=1)\n",
    "\n",
    "# 2. OneHotEncoding\n",
    "\n",
    "dummies_WH_Block = pd.get_dummies(X_test['Warehouse_block'], prefix='WH_Block', drop_first=True)\n",
    "dummies_Mode_of_S = pd.get_dummies(X_test['Mode_of_Shipment'], prefix='Mode_of_S', drop_first=True)\n",
    "dummies_Gender = pd.get_dummies(X_test['Gender'], prefix='Gender', drop_first=True)\n",
    "\n",
    "encode_df = pd.concat([dummies_WH_Block, dummies_Mode_of_S, dummies_Gender], axis=1)\n",
    "\n",
    "X_test = pd.concat([X_test, encode_df], axis=1)\n",
    "\n",
    "X_test.drop(['Warehouse_block', 'Mode_of_Shipment', 'Gender'], axis=1, inplace=True)\n",
    "\n",
    "# 3. Ordinal Encoding (using map method)\n",
    "X_test['Product_Importance'] = X_test['Product_importance'].map(Product_imp)\n",
    "\n",
    "X_test.drop(['Product_importance'], axis=1, inplace=True)"
   ]
  },
  {
   "cell_type": "code",
   "execution_count": 46,
   "id": "d5c960f7",
   "metadata": {},
   "outputs": [
    {
     "data": {
      "text/html": [
       "<div>\n",
       "<style scoped>\n",
       "    .dataframe tbody tr th:only-of-type {\n",
       "        vertical-align: middle;\n",
       "    }\n",
       "\n",
       "    .dataframe tbody tr th {\n",
       "        vertical-align: top;\n",
       "    }\n",
       "\n",
       "    .dataframe thead th {\n",
       "        text-align: right;\n",
       "    }\n",
       "</style>\n",
       "<table border=\"1\" class=\"dataframe\">\n",
       "  <thead>\n",
       "    <tr style=\"text-align: right;\">\n",
       "      <th></th>\n",
       "      <th>Customer_care_calls</th>\n",
       "      <th>Customer_rating</th>\n",
       "      <th>Cost_of_the_Product</th>\n",
       "      <th>Weight_in_gms</th>\n",
       "      <th>Discount_offered</th>\n",
       "      <th>Prior_purchases</th>\n",
       "      <th>WH_Block_B</th>\n",
       "      <th>WH_Block_C</th>\n",
       "      <th>WH_Block_D</th>\n",
       "      <th>WH_Block_E</th>\n",
       "      <th>Mode_of_S_Road</th>\n",
       "      <th>Mode_of_S_Ship</th>\n",
       "      <th>Gender_M</th>\n",
       "      <th>Product_Importance</th>\n",
       "    </tr>\n",
       "  </thead>\n",
       "  <tbody>\n",
       "    <tr>\n",
       "      <th>107</th>\n",
       "      <td>4</td>\n",
       "      <td>5</td>\n",
       "      <td>216</td>\n",
       "      <td>2053</td>\n",
       "      <td>25.0</td>\n",
       "      <td>3.0</td>\n",
       "      <td>0</td>\n",
       "      <td>0</td>\n",
       "      <td>0</td>\n",
       "      <td>1</td>\n",
       "      <td>0</td>\n",
       "      <td>1</td>\n",
       "      <td>1</td>\n",
       "      <td>2</td>\n",
       "    </tr>\n",
       "    <tr>\n",
       "      <th>5594</th>\n",
       "      <td>3</td>\n",
       "      <td>1</td>\n",
       "      <td>220</td>\n",
       "      <td>5572</td>\n",
       "      <td>6.0</td>\n",
       "      <td>3.0</td>\n",
       "      <td>0</td>\n",
       "      <td>0</td>\n",
       "      <td>0</td>\n",
       "      <td>0</td>\n",
       "      <td>1</td>\n",
       "      <td>0</td>\n",
       "      <td>0</td>\n",
       "      <td>0</td>\n",
       "    </tr>\n",
       "    <tr>\n",
       "      <th>6997</th>\n",
       "      <td>3</td>\n",
       "      <td>2</td>\n",
       "      <td>215</td>\n",
       "      <td>4042</td>\n",
       "      <td>3.0</td>\n",
       "      <td>4.0</td>\n",
       "      <td>0</td>\n",
       "      <td>0</td>\n",
       "      <td>0</td>\n",
       "      <td>1</td>\n",
       "      <td>0</td>\n",
       "      <td>0</td>\n",
       "      <td>0</td>\n",
       "      <td>0</td>\n",
       "    </tr>\n",
       "    <tr>\n",
       "      <th>3984</th>\n",
       "      <td>5</td>\n",
       "      <td>1</td>\n",
       "      <td>160</td>\n",
       "      <td>4672</td>\n",
       "      <td>1.0</td>\n",
       "      <td>5.0</td>\n",
       "      <td>0</td>\n",
       "      <td>0</td>\n",
       "      <td>1</td>\n",
       "      <td>0</td>\n",
       "      <td>0</td>\n",
       "      <td>0</td>\n",
       "      <td>0</td>\n",
       "      <td>0</td>\n",
       "    </tr>\n",
       "    <tr>\n",
       "      <th>3111</th>\n",
       "      <td>5</td>\n",
       "      <td>4</td>\n",
       "      <td>229</td>\n",
       "      <td>2419</td>\n",
       "      <td>25.0</td>\n",
       "      <td>2.0</td>\n",
       "      <td>1</td>\n",
       "      <td>0</td>\n",
       "      <td>0</td>\n",
       "      <td>0</td>\n",
       "      <td>0</td>\n",
       "      <td>1</td>\n",
       "      <td>0</td>\n",
       "      <td>1</td>\n",
       "    </tr>\n",
       "  </tbody>\n",
       "</table>\n",
       "</div>"
      ],
      "text/plain": [
       "      Customer_care_calls  Customer_rating  Cost_of_the_Product  \\\n",
       "107                     4                5                  216   \n",
       "5594                    3                1                  220   \n",
       "6997                    3                2                  215   \n",
       "3984                    5                1                  160   \n",
       "3111                    5                4                  229   \n",
       "\n",
       "      Weight_in_gms  Discount_offered  Prior_purchases  WH_Block_B  \\\n",
       "107            2053              25.0              3.0           0   \n",
       "5594           5572               6.0              3.0           0   \n",
       "6997           4042               3.0              4.0           0   \n",
       "3984           4672               1.0              5.0           0   \n",
       "3111           2419              25.0              2.0           1   \n",
       "\n",
       "      WH_Block_C  WH_Block_D  WH_Block_E  Mode_of_S_Road  Mode_of_S_Ship  \\\n",
       "107            0           0           1               0               1   \n",
       "5594           0           0           0               1               0   \n",
       "6997           0           0           1               0               0   \n",
       "3984           0           1           0               0               0   \n",
       "3111           0           0           0               0               1   \n",
       "\n",
       "      Gender_M  Product_Importance  \n",
       "107          1                   2  \n",
       "5594         0                   0  \n",
       "6997         0                   0  \n",
       "3984         0                   0  \n",
       "3111         0                   1  "
      ]
     },
     "execution_count": 46,
     "metadata": {},
     "output_type": "execute_result"
    }
   ],
   "source": [
    "X_test.head()"
   ]
  },
  {
   "cell_type": "code",
   "execution_count": 47,
   "id": "b62d7ad0",
   "metadata": {},
   "outputs": [
    {
     "data": {
      "text/plain": [
       "array([ True,  True,  True,  True,  True,  True,  True,  True,  True,\n",
       "        True,  True,  True,  True,  True])"
      ]
     },
     "execution_count": 47,
     "metadata": {},
     "output_type": "execute_result"
    }
   ],
   "source": [
    "X_train.columns == X_test.columns"
   ]
  },
  {
   "cell_type": "markdown",
   "id": "d5d82fb1",
   "metadata": {},
   "source": [
    "### Model Building"
   ]
  },
  {
   "cell_type": "code",
   "execution_count": 48,
   "id": "ac48d6dc",
   "metadata": {},
   "outputs": [],
   "source": [
    "rf = RandomForestClassifier()"
   ]
  },
  {
   "cell_type": "code",
   "execution_count": 49,
   "id": "5b9ac79e",
   "metadata": {},
   "outputs": [],
   "source": [
    "rf_model = rf.fit(X_train, y_train)"
   ]
  },
  {
   "cell_type": "code",
   "execution_count": 50,
   "id": "4401f307",
   "metadata": {},
   "outputs": [
    {
     "data": {
      "text/plain": [
       "0.6639118457300276"
      ]
     },
     "execution_count": 50,
     "metadata": {},
     "output_type": "execute_result"
    }
   ],
   "source": [
    "rf_model.score(X_test, y_test)"
   ]
  },
  {
   "cell_type": "markdown",
   "id": "7ba379d6",
   "metadata": {},
   "source": [
    "### Tuning the Hyperparameters of RandomForest Model"
   ]
  },
  {
   "cell_type": "code",
   "execution_count": 51,
   "id": "8f204da2",
   "metadata": {},
   "outputs": [],
   "source": [
    "rf_params = {\n",
    "    'n_estimators' : [50,100,130,150],\n",
    "    'max_depth' : [4,5,10,20,None],\n",
    "    'min_samples_split' : [2,3,4,5],\n",
    "    'min_samples_leaf' : [1,4,10,20],\n",
    "    'max_leaf_nodes' : [2,5,10,None]\n",
    "}"
   ]
  },
  {
   "cell_type": "code",
   "execution_count": 52,
   "id": "5cd82535",
   "metadata": {},
   "outputs": [],
   "source": [
    "rf_rs = RandomizedSearchCV(rf, rf_params, cv=5, n_iter=10)"
   ]
  },
  {
   "cell_type": "code",
   "execution_count": 53,
   "id": "e2cadf3e",
   "metadata": {},
   "outputs": [],
   "source": [
    "rf_best_model = rf_rs.fit(X_train, y_train)"
   ]
  },
  {
   "cell_type": "code",
   "execution_count": 54,
   "id": "3dbe482c",
   "metadata": {},
   "outputs": [
    {
     "data": {
      "text/plain": [
       "0.6787878787878788"
      ]
     },
     "execution_count": 54,
     "metadata": {},
     "output_type": "execute_result"
    }
   ],
   "source": [
    "rf_best_model.score(X_test, y_test)"
   ]
  },
  {
   "cell_type": "code",
   "execution_count": 55,
   "id": "3091c8b1",
   "metadata": {},
   "outputs": [
    {
     "data": {
      "text/plain": [
       "{'n_estimators': 130,\n",
       " 'min_samples_split': 2,\n",
       " 'min_samples_leaf': 10,\n",
       " 'max_leaf_nodes': None,\n",
       " 'max_depth': 10}"
      ]
     },
     "execution_count": 55,
     "metadata": {},
     "output_type": "execute_result"
    }
   ],
   "source": [
    "rf_best_model.best_params_"
   ]
  },
  {
   "cell_type": "code",
   "execution_count": 57,
   "id": "9ca6108d",
   "metadata": {},
   "outputs": [
    {
     "data": {
      "text/plain": [
       "RandomForestClassifier(max_depth=10, min_samples_leaf=10, n_estimators=130)"
      ]
     },
     "execution_count": 57,
     "metadata": {},
     "output_type": "execute_result"
    }
   ],
   "source": [
    "rf_best_model.best_estimator_"
   ]
  },
  {
   "cell_type": "markdown",
   "id": "7812da1b",
   "metadata": {},
   "source": [
    "### Model Performance"
   ]
  },
  {
   "cell_type": "code",
   "execution_count": 58,
   "id": "97ecf4fa",
   "metadata": {},
   "outputs": [],
   "source": [
    "y_pred = rf_best_model.predict(X_test)"
   ]
  },
  {
   "cell_type": "code",
   "execution_count": 59,
   "id": "6511331c",
   "metadata": {},
   "outputs": [
    {
     "data": {
      "image/png": "[encoded data removed]",
      "text/plain": [
       "<Figure size 432x288 with 2 Axes>"
      ]
     },
     "metadata": {
      "needs_background": "light"
     },
     "output_type": "display_data"
    }
   ],
   "source": [
    "plot_confusion_matrix(rf_best_model, X_test, y_test)\n",
    "plt.title('Confusion Matrix\\n')\n",
    "plt.show()"
   ]
  },
  {
   "cell_type": "code",
   "execution_count": 60,
   "id": "f261c0a0",
   "metadata": {},
   "outputs": [
    {
     "name": "stdout",
     "output_type": "stream",
     "text": [
      "Classification Report:\n",
      "\n",
      "               precision    recall  f1-score   support\n",
      "\n",
      "           0       0.56      0.87      0.68      1446\n",
      "           1       0.86      0.55      0.68      2184\n",
      "\n",
      "    accuracy                           0.68      3630\n",
      "   macro avg       0.71      0.71      0.68      3630\n",
      "weighted avg       0.74      0.68      0.68      3630\n",
      "\n"
     ]
    }
   ],
   "source": [
    "print(\"Classification Report:\\n\\n\", classification_report(y_test, y_pred))"
   ]
  },
  {
   "cell_type": "code",
   "execution_count": 61,
   "id": "474d981e",
   "metadata": {},
   "outputs": [
    {
     "data": {
      "image/png": "[encoded data removed]",
      "text/plain": [
       "<Figure size 432x288 with 1 Axes>"
      ]
     },
     "metadata": {
      "needs_background": "light"
     },
     "output_type": "display_data"
    }
   ],
   "source": [
    "plot_roc_curve(rf_best_model, X_test, y_test)\n",
    "plt.title('ROC-AUC\\n')\n",
    "plt.show()"
   ]
  },
  {
   "cell_type": "markdown",
   "id": "ca605201",
   "metadata": {},
   "source": [
    "### Saving the Model"
   ]
  },
  {
   "cell_type": "code",
   "execution_count": 62,
   "id": "3287272a",
   "metadata": {},
   "outputs": [],
   "source": [
    "# open a file, where you want to store the data\n",
    "file = open('e_commerce_rf.pkl', 'wb')\n",
    "\n",
    "# dump information to that file\n",
    "pickle.dump(rf_best_model, file)"
   ]
  },
  {
   "cell_type": "code",
   "execution_count": 63,
   "id": "30859fe0",
   "metadata": {},
   "outputs": [],
   "source": [
    "model = open('e_commerce_rf.pkl', 'rb')"
   ]
  },
  {
   "cell_type": "markdown",
   "id": "7370d44c",
   "metadata": {},
   "source": [
    "### Predictions"
   ]
  },
  {
   "cell_type": "code",
   "execution_count": 64,
   "id": "0b073d98",
   "metadata": {},
   "outputs": [
    {
     "data": {
      "text/html": [
       "<div>\n",
       "<style scoped>\n",
       "    .dataframe tbody tr th:only-of-type {\n",
       "        vertical-align: middle;\n",
       "    }\n",
       "\n",
       "    .dataframe tbody tr th {\n",
       "        vertical-align: top;\n",
       "    }\n",
       "\n",
       "    .dataframe thead th {\n",
       "        text-align: right;\n",
       "    }\n",
       "</style>\n",
       "<table border=\"1\" class=\"dataframe\">\n",
       "  <thead>\n",
       "    <tr style=\"text-align: right;\">\n",
       "      <th></th>\n",
       "      <th>Customer_care_calls</th>\n",
       "      <th>Customer_rating</th>\n",
       "      <th>Cost_of_the_Product</th>\n",
       "      <th>Weight_in_gms</th>\n",
       "      <th>Discount_offered</th>\n",
       "      <th>Prior_purchases</th>\n",
       "      <th>WH_Block_B</th>\n",
       "      <th>WH_Block_C</th>\n",
       "      <th>WH_Block_D</th>\n",
       "      <th>WH_Block_E</th>\n",
       "      <th>Mode_of_S_Road</th>\n",
       "      <th>Mode_of_S_Ship</th>\n",
       "      <th>Gender_M</th>\n",
       "      <th>Product_Importance</th>\n",
       "    </tr>\n",
       "  </thead>\n",
       "  <tbody>\n",
       "    <tr>\n",
       "      <th>107</th>\n",
       "      <td>4</td>\n",
       "      <td>5</td>\n",
       "      <td>216</td>\n",
       "      <td>2053</td>\n",
       "      <td>25.0</td>\n",
       "      <td>3.0</td>\n",
       "      <td>0</td>\n",
       "      <td>0</td>\n",
       "      <td>0</td>\n",
       "      <td>1</td>\n",
       "      <td>0</td>\n",
       "      <td>1</td>\n",
       "      <td>1</td>\n",
       "      <td>2</td>\n",
       "    </tr>\n",
       "    <tr>\n",
       "      <th>5594</th>\n",
       "      <td>3</td>\n",
       "      <td>1</td>\n",
       "      <td>220</td>\n",
       "      <td>5572</td>\n",
       "      <td>6.0</td>\n",
       "      <td>3.0</td>\n",
       "      <td>0</td>\n",
       "      <td>0</td>\n",
       "      <td>0</td>\n",
       "      <td>0</td>\n",
       "      <td>1</td>\n",
       "      <td>0</td>\n",
       "      <td>0</td>\n",
       "      <td>0</td>\n",
       "    </tr>\n",
       "    <tr>\n",
       "      <th>6997</th>\n",
       "      <td>3</td>\n",
       "      <td>2</td>\n",
       "      <td>215</td>\n",
       "      <td>4042</td>\n",
       "      <td>3.0</td>\n",
       "      <td>4.0</td>\n",
       "      <td>0</td>\n",
       "      <td>0</td>\n",
       "      <td>0</td>\n",
       "      <td>1</td>\n",
       "      <td>0</td>\n",
       "      <td>0</td>\n",
       "      <td>0</td>\n",
       "      <td>0</td>\n",
       "    </tr>\n",
       "    <tr>\n",
       "      <th>3984</th>\n",
       "      <td>5</td>\n",
       "      <td>1</td>\n",
       "      <td>160</td>\n",
       "      <td>4672</td>\n",
       "      <td>1.0</td>\n",
       "      <td>5.0</td>\n",
       "      <td>0</td>\n",
       "      <td>0</td>\n",
       "      <td>1</td>\n",
       "      <td>0</td>\n",
       "      <td>0</td>\n",
       "      <td>0</td>\n",
       "      <td>0</td>\n",
       "      <td>0</td>\n",
       "    </tr>\n",
       "    <tr>\n",
       "      <th>3111</th>\n",
       "      <td>5</td>\n",
       "      <td>4</td>\n",
       "      <td>229</td>\n",
       "      <td>2419</td>\n",
       "      <td>25.0</td>\n",
       "      <td>2.0</td>\n",
       "      <td>1</td>\n",
       "      <td>0</td>\n",
       "      <td>0</td>\n",
       "      <td>0</td>\n",
       "      <td>0</td>\n",
       "      <td>1</td>\n",
       "      <td>0</td>\n",
       "      <td>1</td>\n",
       "    </tr>\n",
       "  </tbody>\n",
       "</table>\n",
       "</div>"
      ],
      "text/plain": [
       "      Customer_care_calls  Customer_rating  Cost_of_the_Product  \\\n",
       "107                     4                5                  216   \n",
       "5594                    3                1                  220   \n",
       "6997                    3                2                  215   \n",
       "3984                    5                1                  160   \n",
       "3111                    5                4                  229   \n",
       "\n",
       "      Weight_in_gms  Discount_offered  Prior_purchases  WH_Block_B  \\\n",
       "107            2053              25.0              3.0           0   \n",
       "5594           5572               6.0              3.0           0   \n",
       "6997           4042               3.0              4.0           0   \n",
       "3984           4672               1.0              5.0           0   \n",
       "3111           2419              25.0              2.0           1   \n",
       "\n",
       "      WH_Block_C  WH_Block_D  WH_Block_E  Mode_of_S_Road  Mode_of_S_Ship  \\\n",
       "107            0           0           1               0               1   \n",
       "5594           0           0           0               1               0   \n",
       "6997           0           0           1               0               0   \n",
       "3984           0           1           0               0               0   \n",
       "3111           0           0           0               0               1   \n",
       "\n",
       "      Gender_M  Product_Importance  \n",
       "107          1                   2  \n",
       "5594         0                   0  \n",
       "6997         0                   0  \n",
       "3984         0                   0  \n",
       "3111         0                   1  "
      ]
     },
     "execution_count": 64,
     "metadata": {},
     "output_type": "execute_result"
    }
   ],
   "source": [
    "test_data = X_test.head()\n",
    "test_data"
   ]
  },
  {
   "cell_type": "code",
   "execution_count": 65,
   "id": "b0166093",
   "metadata": {},
   "outputs": [
    {
     "data": {
      "text/plain": [
       "107     1\n",
       "5594    1\n",
       "6997    0\n",
       "3984    0\n",
       "3111    1\n",
       "Name: Reached.on.Time_Y.N, dtype: int64"
      ]
     },
     "execution_count": 65,
     "metadata": {},
     "output_type": "execute_result"
    }
   ],
   "source": [
    "y_test.head()"
   ]
  },
  {
   "cell_type": "code",
   "execution_count": 66,
   "id": "749170b7",
   "metadata": {},
   "outputs": [
    {
     "data": {
      "text/plain": [
       "array([1, 0, 1, 0, 1], dtype=int64)"
      ]
     },
     "execution_count": 66,
     "metadata": {},
     "output_type": "execute_result"
    }
   ],
   "source": [
    "rf_best_model.predict(test_data)"
   ]
  },
  {
   "cell_type": "code",
   "execution_count": 67,
   "id": "5f866e5a",
   "metadata": {},
   "outputs": [
    {
     "data": {
      "text/plain": [
       "array([1], dtype=int64)"
      ]
     },
     "execution_count": 67,
     "metadata": {},
     "output_type": "execute_result"
    }
   ],
   "source": [
    "rf_best_model.predict([[4, 5, 216, 2053, 25.0, 3.0, 0, 0, 0, 1, 0, 1, 1, 2]])"
   ]
  }
 ],
 "metadata": {
  "kernelspec": {
   "display_name": "Python 3",
   "language": "python",
   "name": "python3"
  },
  "language_info": {
   "codemirror_mode": {
    "name": "ipython",
    "version": 3
   },
   "file_extension": ".py",
   "mimetype": "text/x-python",
   "name": "python",
   "nbconvert_exporter": "python",
   "pygments_lexer": "ipython3",
   "version": "3.8.8"
  }
 },
 "nbformat": 4,
 "nbformat_minor": 5
}
